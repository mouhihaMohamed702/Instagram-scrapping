{
 "cells": [
  {
   "cell_type": "code",
   "execution_count": 120,
   "id": "fa04cfd1",
   "metadata": {},
   "outputs": [],
   "source": [
    "from selenium import webdriver\n",
    "import time, urllib.request\n",
    "from selenium import webdriver\n",
    "from selenium.webdriver import ChromeOptions\n",
    "from selenium.webdriver.common.action_chains import ActionChains\n",
    "from selenium.webdriver.common.by import By\n",
    "\n",
    "from selenium.webdriver import ChromeOptions\n",
    "from selenium.webdriver.common.action_chains import ActionChains\n",
    "import pandas as pd"
   ]
  },
  {
   "cell_type": "code",
   "execution_count": 121,
   "id": "bea93086",
   "metadata": {},
   "outputs": [],
   "source": [
    "# launch Chrome and navigate to Instagram page\n",
    "options = ChromeOptions()\n",
    "options.add_argument(\"--start-maximized\")\n",
    "driver = webdriver.Chrome(options=options)\n",
    "d=driver.get('https://www.instagram.com/hespress/reels/')"
   ]
  },
  {
   "cell_type": "code",
   "execution_count": 122,
   "id": "2281fe71",
   "metadata": {},
   "outputs": [],
   "source": [
    "driver.execute_script(\"window.scrollBy(0,600)\",\"\")"
   ]
  },
  {
   "cell_type": "code",
   "execution_count": 123,
   "id": "81afed99",
   "metadata": {},
   "outputs": [],
   "source": [
    "driver.implicitly_wait(60)\n",
    "views = driver.find_elements(By.XPATH,'//div[@class=\"_aacl _aacp _aacw _aad3 _aad6\"]')"
   ]
  },
  {
   "cell_type": "code",
   "execution_count": 124,
   "id": "707f6ae7",
   "metadata": {},
   "outputs": [
    {
     "data": {
      "text/plain": [
       "'66.4K'"
      ]
     },
     "execution_count": 124,
     "metadata": {},
     "output_type": "execute_result"
    }
   ],
   "source": [
    "views[0].text"
   ]
  },
  {
   "cell_type": "code",
   "execution_count": 125,
   "id": "fe5bd5b2",
   "metadata": {},
   "outputs": [],
   "source": [
    "\n",
    "df1 = pd.DataFrame(columns=[\"post number \",\"video_title\",\"upload_date\",\"view_count\",\"like_count\",\"comment_count\"])"
   ]
  },
  {
   "cell_type": "code",
   "execution_count": 126,
   "id": "d34b1d8c",
   "metadata": {},
   "outputs": [],
   "source": [
    "df2=pd.DataFrame(columns=[\"post number \",\"comments \"])"
   ]
  },
  {
   "cell_type": "code",
   "execution_count": 134,
   "id": "2325bf9b",
   "metadata": {},
   "outputs": [
    {
     "name": "stdout",
     "output_type": "stream",
     "text": [
      "POST NUM  0  : \n",
      "NEMBER OF VIEWS :  66.4K\n",
      "NEMBER OF LIKES : 3,356\n",
      "NEMBER OF COMMENTS : 31\n",
      "Titre  تزامنا مع إعلان بوتين التعبئة العسكرية.. راكب يسافر رفقة ابنه إلى روسيا على متن طائرة خالية من الركاب\n",
      "Date de publication  2022-09-28T16:00:48.000Z\n"
     ]
    },
    {
     "name": "stderr",
     "output_type": "stream",
     "text": [
      "C:\\Users\\MOUHIHA MOHAMED\\AppData\\Local\\Temp\\ipykernel_11272\\3452439384.py:35: FutureWarning: The frame.append method is deprecated and will be removed from pandas in a future version. Use pandas.concat instead.\n",
      "  df1 = df1.append({'post number ':i,'video_title':title2,'upload_date':date,'view_count':view_count,'like_count':like_count,'comment_count':comment_count},ignore_index=True)\n"
     ]
    },
    {
     "name": "stdout",
     "output_type": "stream",
     "text": [
      "1 ❤️❤️😂❤️😂❤️\n",
      "2 😂❤️😂😂❤️😂😂❤️😂❤️\n",
      "3 ❤️\n",
      "4 ❤️😂❤️😂❤️😂❤️\n",
      "5 ❤️😂❤️😂\n",
      "6 😂❤️😂❤️😂❤️\n",
      "7 ❤️❤️\n",
      "8 Putin❤️🔥\n",
      "9 @d.devil6 achno fiha\n",
      "10 Hbil hda\n",
      "11 @nouha_elme 🤦‍♂️\n",
      "12 أولى ستغفر الله واش حتى هذا خبار الله يهديكم وحنا مالنا فيه 🤦‍♀️\n",
      "['❤️❤️😂❤️😂❤️', '😂❤️😂😂❤️😂😂❤️😂❤️', '❤️', '❤️😂❤️😂❤️😂❤️', '❤️😂❤️😂', '😂❤️😂❤️😂❤️', '❤️❤️', 'Putin❤️🔥', '@d.devil6 achno fiha', 'Hbil hda', '@nouha_elme 🤦\\u200d♂️', 'أولى ستغفر الله واش حتى هذا خبار الله يهديكم وحنا مالنا فيه 🤦\\u200d♀️']\n"
     ]
    }
   ],
   "source": [
    "i=0\n",
    "com=[]\n",
    "actions = ActionChains(driver)\n",
    "\n",
    "\n",
    "for i in range(1):\n",
    "    \n",
    "    print(\"POST NUM \",i,\" : \")\n",
    "    #print(\"NEMBER OF VIEWS : \",views[i].text)\n",
    "    view_count=views[i].text\n",
    "    print(\"NEMBER OF VIEWS : \",view_count)\n",
    "    \n",
    "    elem_hover = driver.find_element(By.XPATH,'(//div[@class=\"_aajz\"])['+str(i+1)+']')\n",
    "    actions.move_to_element(elem_hover)\n",
    "    driver.implicitly_wait(60)    \n",
    "    actions.perform() \n",
    "\n",
    "    ul = driver.find_element(By.XPATH,'(//ul[@class=\"_abpo\"])['+str(i+1)+']')\n",
    "    li  = ul.find_elements(By.TAG_NAME,'li')\n",
    "    #'print(\"NEMBER OF LIKES : \"+li[0].text)\n",
    "    like_count=li[0].text\n",
    "    print(\"NEMBER OF LIKES : \"+like_count)\n",
    "    #print(\"NEMBER OF COMMENTS : \"+li[1].text)\n",
    "    comment_count=li[1].text\n",
    "    print(\"NEMBER OF COMMENTS : \"+comment_count)\n",
    "    actions.click(elem_hover)\n",
    "    driver.implicitly_wait(60)\n",
    "    actions.perform()\n",
    "    title= driver.find_element(By.XPATH,'(//span[@class=\"_aacl _aaco _aacu _aacx _aad7 _aade\"])[1]')\n",
    "    title2=title.text.split('\\n',1)[0]\n",
    "    #print(\"Titre \" ,title.text.split('\\n',1)[0])\n",
    "    print(\"Titre \" ,title2)\n",
    "    date = driver.find_element(By.TAG_NAME,'time').get_attribute('datetime')\n",
    "    print(\"Date de publication \" ,date)\n",
    "    df1 = df1.append({'post number ':i,'video_title':title2,'upload_date':date,'view_count':view_count,'like_count':like_count,'comment_count':comment_count},ignore_index=True)      \n",
    "    #df = df.append({'video_id':i,'video_title':title2,'upload_date':date,'view_count':view_count,'like_count':like_count,'comment_count':comment_count,'comments2':comments2},ignore_index=True)\n",
    "    \n",
    "    \n",
    "    subcomments = driver.find_elements(By.XPATH,' //span[@class=\"_a9yi\"]')\n",
    "    for subcomment in subcomments :\n",
    "        actions.click(subcomment)\n",
    "        actions.perform()\n",
    "    \n",
    "    comments = driver.find_elements(By.XPATH,'//ul[@class=\"_a9ym\"]//span[@class=\"_aacl _aaco _aacu _aacx _aad7 _aade\"]')\n",
    "    j=1\n",
    "   \n",
    "    for comment in comments :\n",
    "        com.append(comment.text)\n",
    "        \n",
    "        print(j ,comment.text)\n",
    "        j=j+1\n",
    "    \n",
    "    fermer= driver.find_element(By.XPATH,'//div[@class=\"alzwoclg i85zmo3j jcxyg2ei cqf1kptm\"]')\n",
    "    actions.click(fermer)\n",
    "    driver.implicitly_wait(1000)\n",
    "    actions.perform()\n",
    "    \n",
    "    \n",
    "    df2 =  pd.DataFrame(com, columns =['comments'])\n",
    "    \n",
    "\n",
    "\n"
   ]
  },
  {
   "cell_type": "code",
   "execution_count": 128,
   "id": "c97b6e12",
   "metadata": {},
   "outputs": [
    {
     "data": {
      "text/html": [
       "<div>\n",
       "<style scoped>\n",
       "    .dataframe tbody tr th:only-of-type {\n",
       "        vertical-align: middle;\n",
       "    }\n",
       "\n",
       "    .dataframe tbody tr th {\n",
       "        vertical-align: top;\n",
       "    }\n",
       "\n",
       "    .dataframe thead th {\n",
       "        text-align: right;\n",
       "    }\n",
       "</style>\n",
       "<table border=\"1\" class=\"dataframe\">\n",
       "  <thead>\n",
       "    <tr style=\"text-align: right;\">\n",
       "      <th></th>\n",
       "      <th>post number</th>\n",
       "      <th>video_title</th>\n",
       "      <th>upload_date</th>\n",
       "      <th>view_count</th>\n",
       "      <th>like_count</th>\n",
       "      <th>comment_count</th>\n",
       "    </tr>\n",
       "  </thead>\n",
       "  <tbody>\n",
       "    <tr>\n",
       "      <th>0</th>\n",
       "      <td>0</td>\n",
       "      <td>تزامنا مع إعلان بوتين التعبئة العسكرية.. راكب ...</td>\n",
       "      <td>2022-09-28T16:00:48.000Z</td>\n",
       "      <td>66.4K</td>\n",
       "      <td>3,356</td>\n",
       "      <td>31</td>\n",
       "    </tr>\n",
       "  </tbody>\n",
       "</table>\n",
       "</div>"
      ],
      "text/plain": [
       "  post number                                         video_title  \\\n",
       "0            0  تزامنا مع إعلان بوتين التعبئة العسكرية.. راكب ...   \n",
       "\n",
       "                upload_date view_count like_count comment_count  \n",
       "0  2022-09-28T16:00:48.000Z      66.4K      3,356            31  "
      ]
     },
     "execution_count": 128,
     "metadata": {},
     "output_type": "execute_result"
    }
   ],
   "source": [
    "df1\n"
   ]
  },
  {
   "cell_type": "code",
   "execution_count": 133,
   "id": "ccd6894a",
   "metadata": {},
   "outputs": [
    {
     "data": {
      "text/html": [
       "<div>\n",
       "<style scoped>\n",
       "    .dataframe tbody tr th:only-of-type {\n",
       "        vertical-align: middle;\n",
       "    }\n",
       "\n",
       "    .dataframe tbody tr th {\n",
       "        vertical-align: top;\n",
       "    }\n",
       "\n",
       "    .dataframe thead th {\n",
       "        text-align: right;\n",
       "    }\n",
       "</style>\n",
       "<table border=\"1\" class=\"dataframe\">\n",
       "  <thead>\n",
       "    <tr style=\"text-align: right;\">\n",
       "      <th></th>\n",
       "      <th>comments</th>\n",
       "    </tr>\n",
       "  </thead>\n",
       "  <tbody>\n",
       "    <tr>\n",
       "      <th>0</th>\n",
       "      <td>❤️❤️😂❤️😂❤️</td>\n",
       "    </tr>\n",
       "    <tr>\n",
       "      <th>1</th>\n",
       "      <td>😂❤️😂😂❤️😂😂❤️😂❤️</td>\n",
       "    </tr>\n",
       "    <tr>\n",
       "      <th>2</th>\n",
       "      <td>❤️</td>\n",
       "    </tr>\n",
       "    <tr>\n",
       "      <th>3</th>\n",
       "      <td>❤️😂❤️😂❤️😂❤️</td>\n",
       "    </tr>\n",
       "    <tr>\n",
       "      <th>4</th>\n",
       "      <td>❤️😂❤️😂</td>\n",
       "    </tr>\n",
       "    <tr>\n",
       "      <th>5</th>\n",
       "      <td>😂❤️😂❤️😂❤️</td>\n",
       "    </tr>\n",
       "    <tr>\n",
       "      <th>6</th>\n",
       "      <td>❤️❤️</td>\n",
       "    </tr>\n",
       "    <tr>\n",
       "      <th>7</th>\n",
       "      <td>Putin❤️🔥</td>\n",
       "    </tr>\n",
       "    <tr>\n",
       "      <th>8</th>\n",
       "      <td>@d.devil6 achno fiha</td>\n",
       "    </tr>\n",
       "    <tr>\n",
       "      <th>9</th>\n",
       "      <td>Hbil hda</td>\n",
       "    </tr>\n",
       "    <tr>\n",
       "      <th>10</th>\n",
       "      <td>@nouha_elme 🤦‍♂️</td>\n",
       "    </tr>\n",
       "    <tr>\n",
       "      <th>11</th>\n",
       "      <td>أولى ستغفر الله واش حتى هذا خبار الله يهديكم و...</td>\n",
       "    </tr>\n",
       "  </tbody>\n",
       "</table>\n",
       "</div>"
      ],
      "text/plain": [
       "                                             comments\n",
       "0                                          ❤️❤️😂❤️😂❤️\n",
       "1                                      😂❤️😂😂❤️😂😂❤️😂❤️\n",
       "2                                                  ❤️\n",
       "3                                         ❤️😂❤️😂❤️😂❤️\n",
       "4                                              ❤️😂❤️😂\n",
       "5                                           😂❤️😂❤️😂❤️\n",
       "6                                                ❤️❤️\n",
       "7                                            Putin❤️🔥\n",
       "8                                @d.devil6 achno fiha\n",
       "9                                            Hbil hda\n",
       "10                                   @nouha_elme 🤦‍♂️\n",
       "11  أولى ستغفر الله واش حتى هذا خبار الله يهديكم و..."
      ]
     },
     "execution_count": 133,
     "metadata": {},
     "output_type": "execute_result"
    }
   ],
   "source": [
    "df2"
   ]
  },
  {
   "cell_type": "code",
   "execution_count": 16,
   "id": "1a3e5055",
   "metadata": {},
   "outputs": [
    {
     "name": "stdout",
     "output_type": "stream",
     "text": [
      "POST NUM  0  : \n",
      "NEMBER OF VIEWS :  22.8K\n",
      "NEMBER OF LIKES : \n",
      "NEMBER OF COMMENTS : \n",
      "Titre  تصريح \"طوطو\" حول المخدرات يسائل بنسعيد برلمانيا\n",
      "Date de publication  2022-09-27T22:10:24.000Z\n",
      "1 Db toto bo7do kikmi f had lmeghrib o aykhrej 3la l2ajyal 😂 😂\n",
      "2 نهضرو بلحق اه راه قال صراحة طوطو منين حشيش ممنوع علاش كتبيعو نيبرو ف صاكة ؟ علاش كتبيعو OCB فصاكة فهم تحماق فهاد بلاد كيما قال اخ عزيز داداس شراب لا لحيشي ايه ❤\n",
      "3 #lhchich_ghafdora\n",
      "4 Oui sara7a t9adat lmachakil fhad lblad o had siyd howa likharj 3liha o3la chabab lmaghrib 😂😂😂😂😂😂 aaaaayma yma khrjto lina lwdnin kbar baz mna\n",
      "5 واش بحال هادا كسميوه فنان ..\n",
      "6 يكفي غير إسمه كان عيب يتقال\n",
      "7 اودي لي كما الحشيش يتستر ! اذا ابتليتم فاستتروا ! انت باغي تخر.ى و تعلم عليها !\n",
      "8 Chehal dyal l3bada dyal toto f had blad\n",
      "9 3adi jidan wahd kikmi lhchich\n",
      "10 دابة هذا اسمو فنان هذا تحشم حتى تقول سميتو مابقى غير يدير ندوك ويكون قدوة🙄 تررررر\n",
      "11 #freetoto#\n",
      "12 Toto chab3e jwanat 😂😂😂😂😂😂\n",
      "POST NUM  1  : \n",
      "NEMBER OF VIEWS :  262K\n",
      "NEMBER OF LIKES : 4,719\n",
      "NEMBER OF COMMENTS : 208\n",
      "Titre  \n",
      "Date de publication  2022-09-27T22:30:38.000Z\n",
      "1 😂😂😂😂😂\n",
      "2 Women😂😂😂😂\n",
      "3 الإعلام خطار يريدون تصعيد الأمور لاوجود لاعلام مستقل كلهم يخدمون اجندات ومصالح أنظمة وايديولو جيات معينة خاصة الاعلام الاوروبي عندما يريدون التعتيم على مصائبهم يعتمون لكن عندما يتعلق الأمر بمصالحهم واعدائهم يشحنون الرأي العام والعالم\n",
      "4 يا الهي ماللبشر ؟؟! اعداء الاسلام كانوا مختبئين، اما الان فصاروا علنا\n",
      "5 لماذا لا نرى هذا التضامن مع النساء المحجبات .ام نرى كل هذا عندما يكون ضد الاسلام\n",
      "6 محزن عقل بعض البشر.. يعطون قيمة للشعر أكثر من الحياه\n",
      "7 هيا ماتت وهما تيجمعو فذنوب هدوك لي تيتبعوها\n",
      "8 Her bhra rzeto x3rqum ekhuty👩🏻‍🦯\n",
      "9 😂😂😂😂😂😂\n",
      "10 هههههههههههههههههههه حق الرب تا هاد الزمان ديال تق / بر مهم بحال يام الجاهلية 🙂\n",
      "11 😂😂😂😂\n",
      "12 هاد عالم غربي داير بحال شي قطيع خاصك غا تعرف تسرح مزيان\n",
      "POST NUM  2  : \n",
      "NEMBER OF VIEWS :  201K\n",
      "NEMBER OF LIKES : 11.3K\n",
      "NEMBER OF COMMENTS : 295\n",
      "Titre  تصريح \"طوطو\" حول المخدرات يسائل بنسعيد برلمانيا\n",
      "Date de publication  2022-09-27T22:10:24.000Z\n",
      "1 Db toto bo7do kikmi f had lmeghrib o aykhrej 3la l2ajyal 😂 😂\n",
      "2 نهضرو بلحق اه راه قال صراحة طوطو منين حشيش ممنوع علاش كتبيعو نيبرو ف صاكة ؟ علاش كتبيعو OCB فصاكة فهم تحماق فهاد بلاد كيما قال اخ عزيز داداس شراب لا لحيشي ايه ❤\n",
      "3 #lhchich_ghafdora\n",
      "4 Oui sara7a t9adat lmachakil fhad lblad o had siyd howa likharj 3liha o3la chabab lmaghrib 😂😂😂😂😂😂 aaaaayma yma khrjto lina lwdnin kbar baz mna\n",
      "5 واش بحال هادا كسميوه فنان ..\n",
      "6 يكفي غير إسمه كان عيب يتقال\n",
      "7 اودي لي كما الحشيش يتستر ! اذا ابتليتم فاستتروا ! انت باغي تخر.ى و تعلم عليها !\n",
      "8 Chehal dyal l3bada dyal toto f had blad\n",
      "9 3adi jidan wahd kikmi lhchich\n",
      "10 دابة هذا اسمو فنان هذا تحشم حتى تقول سميتو مابقى غير يدير ندوك ويكون قدوة🙄 تررررر\n",
      "11 #freetoto#\n",
      "12 Toto chab3e jwanat 😂😂😂😂😂😂\n"
     ]
    }
   ],
   "source": [
    "i=0\n",
    "actions = ActionChains(driver)\n",
    "\n",
    "for i in range(3):\n",
    "    \n",
    "    print(\"POST NUM \",i,\" : \")\n",
    "    print(\"NEMBER OF VIEWS : \",views[i].text)\n",
    "    elem_hover = driver.find_element(By.XPATH,'(//div[@class=\"_aajz\"])['+str(i+1)+']')\n",
    "    actions.move_to_element(elem_hover)\n",
    "    driver.implicitly_wait(60)    \n",
    "    actions.perform() \n",
    "\n",
    "    ul = driver.find_element(By.XPATH,'(//ul[@class=\"_abpo\"])['+str(i+1)+']')\n",
    "    li  = ul.find_elements(By.TAG_NAME,'li')\n",
    "    print(\"NEMBER OF LIKES : \"+li[0].text)\n",
    "    print(\"NEMBER OF COMMENTS : \"+li[1].text)\n",
    "\n",
    "    actions.click(elem_hover)\n",
    "    driver.implicitly_wait(60)\n",
    "    actions.perform()\n",
    "    title= driver.find_element(By.XPATH,'(//span[@class=\"_aacl _aaco _aacu _aacx _aad7 _aade\"])[1]')\n",
    "    print(\"Titre \" ,title.text.split('\\n',1)[0])\n",
    "\n",
    "    date = driver.find_element(By.TAG_NAME,'time').get_attribute('datetime')\n",
    "    print(\"Date de publication \" ,date)\n",
    "    \n",
    "    subcomments = driver.find_elements(By.XPATH,' //span[@class=\"_a9yi\"]')\n",
    "    for subcomment in subcomments :\n",
    "        actions.click(subcomment)\n",
    "        actions.perform()\n",
    "           \n",
    "    comments = driver.find_elements(By.XPATH,'//ul[@class=\"_a9ym\"]//span[@class=\"_aacl _aaco _aacu _aacx _aad7 _aade\"]')\n",
    "    j=1\n",
    "    for comment in comments :\n",
    "        print(j ,comment.text)\n",
    "        j=j+1\n",
    "    \n",
    "    fermer= driver.find_element(By.XPATH,'//div[@class=\"alzwoclg i85zmo3j jcxyg2ei cqf1kptm\"]')\n",
    "    actions.click(fermer)\n",
    "    driver.implicitly_wait(60)\n",
    "    actions.perform()\n",
    "    \n",
    "\n",
    "\n"
   ]
  },
  {
   "cell_type": "code",
   "execution_count": null,
   "id": "833f1f57",
   "metadata": {},
   "outputs": [],
   "source": [
    "subcomments = driver.find_elements(By.XPATH,' //span[@class=\"_a9yi\"]')\n",
    "    for subcomment in subcomments :\n",
    "        actions.click(subcomment)\n",
    "        actions.perform()\n",
    "           \n",
    "    comments = driver.find_elements(By.XPATH,'//ul[@class=\"_a9ym\"]//span[@class=\"_aacl _aaco _aacu _aacx _aad7 _aade\"]')\n",
    "    j=1\n",
    "    for comment in comments :\n",
    "        print(j ,comment.text)\n",
    "        j=j+1\n",
    "    \n",
    "    fermer= driver.find_element(By.XPATH,'//div[@class=\"alzwoclg i85zmo3j jcxyg2ei cqf1kptm\"]')\n",
    "    actions.click(fermer)\n",
    "    driver.implicitly_wait(60)\n",
    "    actions.perform()"
   ]
  },
  {
   "cell_type": "code",
   "execution_count": 78,
   "id": "f46a8260",
   "metadata": {},
   "outputs": [],
   "source": []
  },
  {
   "cell_type": "code",
   "execution_count": 135,
   "id": "b4d515e4",
   "metadata": {},
   "outputs": [
    {
     "ename": "AttributeError",
     "evalue": "'WebDriver' object has no attribute 'find_element_by_xpath'",
     "output_type": "error",
     "traceback": [
      "\u001b[1;31m---------------------------------------------------------------------------\u001b[0m",
      "\u001b[1;31mAttributeError\u001b[0m                            Traceback (most recent call last)",
      "Cell \u001b[1;32mIn [135], line 1\u001b[0m\n\u001b[1;32m----> 1\u001b[0m element \u001b[38;5;241m=\u001b[39m \u001b[43mdriver\u001b[49m\u001b[38;5;241;43m.\u001b[39;49m\u001b[43mfind_element_by_xpath\u001b[49m(\u001b[38;5;124m\"\u001b[39m\u001b[38;5;124m\"\u001b[39m)\n\u001b[0;32m      2\u001b[0m driver\u001b[38;5;241m.\u001b[39mexecute_script(\u001b[38;5;124m\"\u001b[39m\u001b[38;5;124marguments[0].scrollIntoView(true);\u001b[39m\u001b[38;5;124m\"\u001b[39m, element)\n",
      "\u001b[1;31mAttributeError\u001b[0m: 'WebDriver' object has no attribute 'find_element_by_xpath'"
     ]
    }
   ],
   "source": [
    "element = driver.find_element_by_xpath(\"\")\n",
    "driver.execute_script(\"arguments[0].scrollIntoView(true);\", element);"
   ]
  },
  {
   "cell_type": "code",
   "execution_count": null,
   "id": "deb87c48",
   "metadata": {},
   "outputs": [],
   "source": []
  },
  {
   "cell_type": "code",
   "execution_count": 75,
   "id": "8a0c5148",
   "metadata": {},
   "outputs": [],
   "source": []
  },
  {
   "cell_type": "code",
   "execution_count": null,
   "id": "9a39cb7b",
   "metadata": {},
   "outputs": [],
   "source": []
  },
  {
   "cell_type": "code",
   "execution_count": null,
   "id": "582776b5",
   "metadata": {},
   "outputs": [],
   "source": []
  },
  {
   "cell_type": "code",
   "execution_count": null,
   "id": "ebd0c625",
   "metadata": {},
   "outputs": [],
   "source": []
  },
  {
   "cell_type": "code",
   "execution_count": null,
   "id": "a9758a55",
   "metadata": {},
   "outputs": [],
   "source": []
  },
  {
   "cell_type": "code",
   "execution_count": null,
   "id": "d2231c61",
   "metadata": {},
   "outputs": [],
   "source": []
  },
  {
   "cell_type": "code",
   "execution_count": null,
   "id": "a75c7e3f",
   "metadata": {},
   "outputs": [],
   "source": []
  },
  {
   "cell_type": "code",
   "execution_count": null,
   "id": "372914d4",
   "metadata": {},
   "outputs": [],
   "source": []
  },
  {
   "cell_type": "code",
   "execution_count": null,
   "id": "ec0ef84f",
   "metadata": {},
   "outputs": [],
   "source": []
  },
  {
   "cell_type": "code",
   "execution_count": null,
   "id": "693e8d6e",
   "metadata": {},
   "outputs": [],
   "source": []
  },
  {
   "cell_type": "code",
   "execution_count": null,
   "id": "9591a7d8",
   "metadata": {},
   "outputs": [],
   "source": []
  },
  {
   "cell_type": "code",
   "execution_count": null,
   "id": "2c3eb8de",
   "metadata": {},
   "outputs": [],
   "source": []
  },
  {
   "cell_type": "code",
   "execution_count": null,
   "id": "faa21305",
   "metadata": {},
   "outputs": [],
   "source": []
  },
  {
   "cell_type": "code",
   "execution_count": null,
   "id": "1b1f9cb5",
   "metadata": {},
   "outputs": [],
   "source": []
  },
  {
   "cell_type": "code",
   "execution_count": null,
   "id": "3fb92666",
   "metadata": {},
   "outputs": [],
   "source": [
    "\n"
   ]
  },
  {
   "cell_type": "code",
   "execution_count": 297,
   "id": "e658dcee",
   "metadata": {},
   "outputs": [],
   "source": []
  },
  {
   "cell_type": "code",
   "execution_count": 291,
   "id": "7e4cd420",
   "metadata": {},
   "outputs": [],
   "source": []
  },
  {
   "cell_type": "code",
   "execution_count": null,
   "id": "d0ede224",
   "metadata": {},
   "outputs": [],
   "source": []
  },
  {
   "cell_type": "code",
   "execution_count": null,
   "id": "69930df8",
   "metadata": {},
   "outputs": [],
   "source": []
  },
  {
   "cell_type": "code",
   "execution_count": 216,
   "id": "fda0bed9",
   "metadata": {},
   "outputs": [],
   "source": []
  },
  {
   "cell_type": "code",
   "execution_count": 217,
   "id": "943328d5",
   "metadata": {},
   "outputs": [],
   "source": [
    "\n"
   ]
  },
  {
   "cell_type": "code",
   "execution_count": null,
   "id": "99bbf6a4",
   "metadata": {},
   "outputs": [],
   "source": []
  },
  {
   "cell_type": "code",
   "execution_count": null,
   "id": "f63607a2",
   "metadata": {},
   "outputs": [],
   "source": []
  },
  {
   "cell_type": "code",
   "execution_count": null,
   "id": "f3f0fab4",
   "metadata": {},
   "outputs": [],
   "source": []
  },
  {
   "cell_type": "code",
   "execution_count": 191,
   "id": "13ac8286",
   "metadata": {},
   "outputs": [],
   "source": [
    "# # from selenium.webdriver.common.action_chains import ActionChains\n",
    "# # for post in posts:\n",
    "# #     driver.get(post)\n",
    "# #     type = driver.find_element(By.XPATH,'//meta[@property=\"og:type\"]').get_attribute('content')\n",
    "# #     if type == 'video':\n",
    "# #         driver.implicitly_wait(60)\n",
    "# #         elements = driver.find_elements(By.XPATH,\"//span[@class='_aacl _aaco _aacu _aacx _aad7 _aade']\")\n",
    "# #         print(elements[1])\n",
    "# # #     driver.execute_script(\"return arguments[0].scrollIntoView();\", elements)\n",
    "\n",
    "# # #         date = driver.find_element(By.TAG_NAME,'time').get_attribute('datetime')\n",
    "# # #         print(date)\n",
    "# for element in elements :\n",
    "#         driver.execute_script(\"arguments[0].scrollIntoView();\", element)\n",
    "#         elements = driver.find_elements(By.CLASS_NAME,'_aacl _aaco _aacu _aacx _aad7 _aade')\n",
    "#         print(elements)\n",
    "#         if len(elements) != 0:\n",
    "#             for element in elements : \n",
    "#                 print (element.text)\n",
    "#                 driver.get(post+'liked_by/')\n",
    "\n"
   ]
  },
  {
   "cell_type": "code",
   "execution_count": null,
   "id": "8970fbc2",
   "metadata": {},
   "outputs": [],
   "source": []
  },
  {
   "cell_type": "code",
   "execution_count": null,
   "id": "de0c9630",
   "metadata": {},
   "outputs": [],
   "source": [
    "\n"
   ]
  },
  {
   "cell_type": "code",
   "execution_count": null,
   "id": "b1cdeed7",
   "metadata": {},
   "outputs": [],
   "source": []
  },
  {
   "cell_type": "code",
   "execution_count": null,
   "id": "86534535",
   "metadata": {},
   "outputs": [],
   "source": []
  },
  {
   "cell_type": "code",
   "execution_count": null,
   "id": "9ba9d46e",
   "metadata": {},
   "outputs": [],
   "source": []
  },
  {
   "cell_type": "code",
   "execution_count": null,
   "id": "dfc6528c",
   "metadata": {},
   "outputs": [],
   "source": []
  },
  {
   "cell_type": "code",
   "execution_count": null,
   "id": "9272ac1e",
   "metadata": {},
   "outputs": [],
   "source": []
  }
 ],
 "metadata": {
  "kernelspec": {
   "display_name": "Python 3 (ipykernel)",
   "language": "python",
   "name": "python3"
  },
  "language_info": {
   "codemirror_mode": {
    "name": "ipython",
    "version": 3
   },
   "file_extension": ".py",
   "mimetype": "text/x-python",
   "name": "python",
   "nbconvert_exporter": "python",
   "pygments_lexer": "ipython3",
   "version": "3.10.7"
  }
 },
 "nbformat": 4,
 "nbformat_minor": 5
}
